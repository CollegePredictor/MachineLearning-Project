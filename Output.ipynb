{
  "nbformat": 4,
  "nbformat_minor": 0,
  "metadata": {
    "colab": {
      "name": "Output.ipynb",
      "provenance": [],
      "collapsed_sections": [],
      "authorship_tag": "ABX9TyPYgV8XNaD8vz9j19sNIX7w",
      "include_colab_link": true
    },
    "kernelspec": {
      "name": "python3",
      "display_name": "Python 3"
    },
    "language_info": {
      "name": "python"
    }
  },
  "cells": [
    {
      "cell_type": "markdown",
      "metadata": {
        "id": "view-in-github",
        "colab_type": "text"
      },
      "source": [
        "<a href=\"https://colab.research.google.com/github/CollegePredictor/MachineLearning-Project/blob/main/Output.ipynb\" target=\"_parent\"><img src=\"https://colab.research.google.com/assets/colab-badge.svg\" alt=\"Open In Colab\"/></a>"
      ]
    },
    {
      "cell_type": "code",
      "metadata": {
        "id": "lwcUJTKs_r1O",
        "colab": {
          "base_uri": "https://localhost:8080/"
        },
        "outputId": "5324a989-48ea-4066-87a8-6b67248a0454"
      },
      "source": [
        "import pandas as pd\n",
        "df=pd.read_excel('Master.xlsx')\n",
        "print(type(df))\n",
        "df[df.columns] = df[df.columns].fillna(-1)"
      ],
      "execution_count": null,
      "outputs": [
        {
          "output_type": "stream",
          "text": [
            "<class 'pandas.core.frame.DataFrame'>\n"
          ],
          "name": "stdout"
        }
      ]
    },
    {
      "cell_type": "code",
      "metadata": {
        "colab": {
          "base_uri": "https://localhost:8080/"
        },
        "id": "nmau4EseBJkW",
        "outputId": "433a4881-41a4-4d88-af88-65d7073998bb"
      },
      "source": [
        "print(df)"
      ],
      "execution_count": null,
      "outputs": [
        {
          "output_type": "stream",
          "text": [
            "     Unnamed: 0  year  ... dist                                     b_name\n",
            "0             0  2021  ...  HYD         COMPUTER SCIENCE  AND  ENGINEERING\n",
            "1             1  2021  ...  HYD  ELECTRONICS AND COMMUNICATION ENGINEERING\n",
            "2             2  2021  ...  HYD     ELECTRICAL AND ELECTRONICS ENGINEERING\n",
            "3             3  2021  ...  HYD                     MECHANICAL ENGINEERING\n",
            "4             4  2021  ...  MDL                          CIVIL ENGINEERING\n",
            "..          ...   ...  ...  ...                                        ...\n",
            "769         769  2021  ...  HYD         COMPUTER SCIENCE  AND  ENGINEERING\n",
            "770         770  2021  ...  WGR                          CIVIL ENGINEERING\n",
            "771         771  2021  ...  WGR         COMPUTER SCIENCE  AND  ENGINEERING\n",
            "772         772  2021  ...  WGR     ELECTRICAL AND ELECTRONICS ENGINEERING\n",
            "773         773  2021  ...  WGR                     MECHANICAL ENGINEERING\n",
            "\n",
            "[774 rows x 24 columns]\n"
          ],
          "name": "stdout"
        }
      ]
    },
    {
      "cell_type": "code",
      "metadata": {
        "colab": {
          "base_uri": "https://localhost:8080/"
        },
        "id": "zHKXo9cGGtum",
        "outputId": "6615035d-1605-4086-a440-a83a25caeb11"
      },
      "source": [
        "print(df.columns)"
      ],
      "execution_count": null,
      "outputs": [
        {
          "output_type": "stream",
          "text": [
            "Index(['Unnamed: 0', 'year', 'i_code', 'b_code', 'OC_B', 'OC_G', 'BCA_B',\n",
            "       'BCA_G', 'BCB_B', 'BCB_G', 'BCC_B', 'BCC_G', 'BCD_B', 'BCD_G', 'BCE_B',\n",
            "       'BCE_G', 'SC_B', 'SC_G', 'ST_B', 'ST_G', 'i_name', 'place', 'dist',\n",
            "       'b_name'],\n",
            "      dtype='object')\n"
          ],
          "name": "stdout"
        }
      ]
    },
    {
      "cell_type": "code",
      "metadata": {
        "id": "7EbgQTTfBMfE"
      },
      "source": [
        "#Rank\n",
        "#gender\n",
        "#Caste\n",
        "#Branch\n",
        "#dist\n",
        "\n",
        "gender =1\n",
        "cast='BCA'\n",
        "rank=14000\n",
        "branch='CSE'\n",
        "dis=['MDL']\n",
        "\n",
        "if(gender==1):\n",
        "  caste=cast +\"_B\"\n",
        "else:\n",
        "  caste=cast +\"_G\"\n",
        "\n",
        "def func(k):\n",
        "  for i in dis:\n",
        "    print(k)\n",
        "    print(type(k))\n",
        "    break\n",
        "\n",
        "filt=(df['b_code']==branch) & (df.dist.isin(dis))\n",
        "output=df.loc[filt,['i_name',caste]]"
      ],
      "execution_count": null,
      "outputs": []
    },
    {
      "cell_type": "code",
      "metadata": {
        "id": "9b3PcQnQCF98"
      },
      "source": [
        "filt1=((output[caste]>rank*40/100))"
      ],
      "execution_count": null,
      "outputs": []
    },
    {
      "cell_type": "code",
      "metadata": {
        "colab": {
          "base_uri": "https://localhost:8080/",
          "height": 141
        },
        "id": "9R3OiSrKHRen",
        "outputId": "ee920641-4fc4-4de8-cb97-e3ea61de3134"
      },
      "source": [
        "output=output.sort_values(caste)\n",
        "out=output.loc[filt1,'i_name'].head(20)\n",
        "out=out.to_frame()\n",
        "out.to_html()"
      ],
      "execution_count": null,
      "outputs": [
        {
          "output_type": "execute_result",
          "data": {
            "application/vnd.google.colaboratory.intrinsic+json": {
              "type": "string"
            },
            "text/plain": [
              "'<table border=\"1\" class=\"dataframe\">\\n  <thead>\\n    <tr style=\"text-align: right;\">\\n      <th></th>\\n      <th>i_name</th>\\n    </tr>\\n  </thead>\\n  <tbody>\\n    <tr>\\n      <th>733</th>\\n      <td>V N R VIGNAN JYOTHI INSTITUTE OF ENGG AND TECH</td>\\n    </tr>\\n    <tr>\\n      <th>603</th>\\n      <td>SREENIDHI INSTITUTE OF SCI AND TECHNOLOGY</td>\\n    </tr>\\n    <tr>\\n      <th>224</th>\\n      <td>GOKARAJU RANGARAJU INSTITUTE OF ENGG AND TECH</td>\\n    </tr>\\n    <tr>\\n      <th>251</th>\\n      <td>INSTITUTE OF AERONAUTICAL ENGINEERING</td>\\n    </tr>\\n    <tr>\\n      <th>154</th>\\n      <td>C M R COLLEGE OF ENGG AND TECHNOLOGY</td>\\n    </tr>\\n    <tr>\\n      <th>179</th>\\n      <td>ANURAG GRP OF INSTNS- CVSR COLL OF ENGG</td>\\n    </tr>\\n    <tr>\\n      <th>451</th>\\n      <td>MARRI LAXMAN REDDY INST OF TECHNOLOGY AND MANAGEMENT</td>\\n    </tr>\\n    <tr>\\n      <th>445</th>\\n      <td>MALLA REDDY COLLEGE OF ENGG  TECHNOLOGY (AUTONOMOUS)</td>\\n    </tr>\\n    <tr>\\n      <th>479</th>\\n      <td>MALLAREDDY ENGINEERING COLLEGE AUTONOMOUS</td>\\n    </tr>\\n    <tr>\\n      <th>439</th>\\n      <td>M L R INSTITUTE OF TECHNOLOGY</td>\\n    </tr>\\n    <tr>\\n      <th>519</th>\\n      <td>NEIL GOGTE INST OF TECHNOLOGY</td>\\n    </tr>\\n    <tr>\\n      <th>697</th>\\n      <td>VIGNAN BHARATI INSTITUTE OF TECHNOLOGY (AUTONOMOUS)</td>\\n    </tr>\\n    <tr>\\n      <th>199</th>\\n      <td>GEETANJALI COLLEGE OF ENGG AND TECHNOLOGY</td>\\n    </tr>\\n    <tr>\\n      <th>160</th>\\n      <td>CMR INSTITUTE OF TECHNOLOGY</td>\\n    </tr>\\n    <tr>\\n      <th>378</th>\\n      <td>KOMMURI PRATAP REDDY INST OF TECHNOLOGY</td>\\n    </tr>\\n    <tr>\\n      <th>149</th>\\n      <td>CMR TECHNICAL CAMPUS</td>\\n    </tr>\\n    <tr>\\n      <th>486</th>\\n      <td>MALLA REDDY ENGINEERING COLLEGE AND MANAGEMENT SCIENCES</td>\\n    </tr>\\n    <tr>\\n      <th>468</th>\\n      <td>MALLA REDDY COLLEGE OF ENGINEERING</td>\\n    </tr>\\n    <tr>\\n      <th>240</th>\\n      <td>HYDERABAD INST OF TECHNOLOGY AND MGMT</td>\\n    </tr>\\n    <tr>\\n      <th>502</th>\\n      <td>ST MARTINS ENGINEERING COLLEGE</td>\\n    </tr>\\n  </tbody>\\n</table>'"
            ]
          },
          "metadata": {
            "tags": []
          },
          "execution_count": 15
        }
      ]
    },
    {
      "cell_type": "code",
      "metadata": {
        "id": "6HKs01bZQiW_",
        "colab": {
          "base_uri": "https://localhost:8080/"
        },
        "outputId": "47aeb855-860d-4b7b-872f-06fb7132c1d5"
      },
      "source": [
        "b_code=set(df['b_code'])\n",
        "#print(len(b_code))\n",
        "#b_name=set(df['b_name'])\n",
        "dic={}\n",
        "for i in b_code:\n",
        "  fi=df['b_code']==i\n",
        "  k=df.loc[fi,'b_name'].head(1)\n",
        "  dic[i]=k.values[0]\n",
        "print(dic)"
      ],
      "execution_count": null,
      "outputs": [
        {
          "output_type": "stream",
          "text": [
            "{'CSI': 'COMPUTER SCIENCE AND INFORMATION TECHNOLOGY', 'CSN': 'COMPUTER SCIENCE & ENGINEERING (NETWORKS)', 'FPT': 'FOOD PROCESSING TECHNOLOGY', 'ECI': 'ELECTRONICS COMMUNICATION AND INSTRUMENTATION ENGINEERING', 'BIO': 'BIO-TECHNOLOGY', 'INF': 'INFORMATION TECHNOLOGY', 'FSP': 'FACILITIES AND SERVICES PLANNING', 'CSB': 'COMPUTER SCIENCE AND BUSINESS SYSTEM', 'ETM': 'ELECTRONICS AND TELEMATICS', 'PHD': 'PHARM - D (M.P.C. STREAM)', 'MCT': 'MECHANICAL (MECHTRONICS) ENGINEERING', 'ECE': 'ELECTRONICS AND COMMUNICATION ENGINEERING', 'MMS': 'BTECH MECHANICAL  WITH MTECH MANUFACTURING  SYSTEMS', 'BME': 'BIO-MEDICAL ENGINEERING', 'TEX': 'TEXTILE TECHNOLOGY', 'ITE': 'INFORMATION TECHNOLOGY AND ENGINEERING', 'CME': 'COMPUTER ENGINEERING', 'EEE': 'ELECTRICAL AND ELECTRONICS ENGINEERING', 'DTD': 'DIGITAL TECHNIQUES FOR DESIGN AND PLANNING', 'AUT': 'AUTOMOBILE ENGINEERING', 'CIV': 'CIVIL ENGINEERING', 'ECM': 'ELECTRONICS AND COMPUTER ENGINEERING', 'PLG': 'PLANNING', 'CHE': 'CHEMICAL ENGINEERING', 'MIN': 'MINING ENGINEERING', 'MET': 'METALLURGICAL ENGINEERING', 'MMT': 'METALLURGY AND MATERIAL ENGINEERING', 'CSE': 'COMPUTER SCIENCE  AND  ENGINEERING', 'DRG': 'DAIRYING', 'AI': 'ARTIFICIAL INTELLIGENCE', 'MTE': 'BTECH MECHANICAL  WITH MTECH THERMAL ENGG', 'ANE': 'AERONAUTICAL ENGINEERING', 'IPE': 'INDUSTRIAL PRODUCTION ENGINEERING', 'EIE': 'ELECTRONICS AND INSTRUMENTATION ENGINEERING', 'MEC': 'MECHANICAL ENGINEERING', 'FDS': 'FOOD SCIENCE', 'PHE': 'PHARMACEUTICAL ENGINEERING', 'AGR': 'AGRICULTURAL ENGINEERING'}\n"
          ],
          "name": "stdout"
        }
      ]
    },
    {
      "cell_type": "code",
      "metadata": {
        "colab": {
          "base_uri": "https://localhost:8080/"
        },
        "id": "z5hE3ET7gARW",
        "outputId": "310cb398-5b7c-4534-93bd-683875cd8847"
      },
      "source": [
        "print(set(df['dist']))"
      ],
      "execution_count": null,
      "outputs": [
        {
          "output_type": "stream",
          "text": [
            "{'SRP', 'SDP', 'KHM', 'MDL', 'KMR', 'HYD', 'NZB', 'RR', 'KGM', 'SRD', 'WGU', 'MBN', 'PDL', 'KRM', 'JTL', 'NLG', 'YBG', 'WGR', 'MED'}\n"
          ],
          "name": "stdout"
        }
      ]
    },
    {
      "cell_type": "code",
      "metadata": {
        "colab": {
          "base_uri": "https://localhost:8080/"
        },
        "id": "ZfdduH2Xm5Wx",
        "outputId": "b254c990-b086-438b-da75-cce1c129e64a"
      },
      "source": [
        "print(df.columns[4:-4])"
      ],
      "execution_count": null,
      "outputs": [
        {
          "output_type": "stream",
          "text": [
            "Index(['OC_B', 'OC_G', 'BCA_B', 'BCA_G', 'BCB_B', 'BCB_G', 'BCC_B', 'BCC_G',\n",
            "       'BCD_B', 'BCD_G', 'BCE_B', 'BCE_G', 'SC_B', 'SC_G', 'ST_B', 'ST_G'],\n",
            "      dtype='object')\n"
          ],
          "name": "stdout"
        }
      ]
    },
    {
      "cell_type": "code",
      "metadata": {
        "id": "3dWtoAgEADXj"
      },
      "source": [
        ""
      ],
      "execution_count": null,
      "outputs": []
    }
  ]
}