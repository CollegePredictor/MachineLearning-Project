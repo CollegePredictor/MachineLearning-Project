{
  "nbformat": 4,
  "nbformat_minor": 0,
  "metadata": {
    "colab": {
      "name": "Data Preprocessing",
      "provenance": [],
      "toc_visible": true,
      "authorship_tag": "ABX9TyOlyqiNMcuA3Z9Wzs8+LbAw",
      "include_colab_link": true
    },
    "kernelspec": {
      "name": "python3",
      "display_name": "Python 3"
    },
    "language_info": {
      "name": "python"
    }
  },
  "cells": [
    {
      "cell_type": "markdown",
      "metadata": {
        "id": "view-in-github",
        "colab_type": "text"
      },
      "source": [
        "<a href=\"https://colab.research.google.com/github/CollegePredictor/MachineLearning-Project/blob/main/Data_Preprocessing.ipynb\" target=\"_parent\"><img src=\"https://colab.research.google.com/assets/colab-badge.svg\" alt=\"Open In Colab\"/></a>"
      ]
    },
    {
      "cell_type": "code",
      "metadata": {
        "id": "nMVT-4ZOIVE3"
      },
      "source": [
        "import pandas as pd\n",
        "\n",
        "df1=pd.read_excel('2016.xlsx')\n",
        "df2=pd.read_excel('2017.xlsx')\n",
        "df3=pd.read_excel('2018.xlsx')\n",
        "df4=pd.read_excel('2019.xlsx')\n"
      ],
      "execution_count": null,
      "outputs": []
    },
    {
      "cell_type": "code",
      "metadata": {
        "id": "wbbnFTHGShCG"
      },
      "source": [
        ""
      ],
      "execution_count": null,
      "outputs": []
    },
    {
      "cell_type": "markdown",
      "metadata": {
        "id": "1JCP8mjU6lCg"
      },
      "source": [
        "##Merging data of four Xlsx files"
      ]
    },
    {
      "cell_type": "code",
      "metadata": {
        "id": "GvNHN_gpJGkh"
      },
      "source": [
        "frames=[df1,df2,df3,df4]\n",
        "result=pd.concat(frames)"
      ],
      "execution_count": null,
      "outputs": []
    },
    {
      "cell_type": "code",
      "metadata": {
        "id": "7N0xEfepJjx0"
      },
      "source": [
        "result.to_csv('merged_data.csv')"
      ],
      "execution_count": null,
      "outputs": []
    },
    {
      "cell_type": "code",
      "metadata": {
        "id": "mLIzPu1wJtyU"
      },
      "source": [
        "result1=result.sort_values(['i_code','b_code','year'],ascending=[1,1,1])"
      ],
      "execution_count": null,
      "outputs": []
    },
    {
      "cell_type": "code",
      "metadata": {
        "colab": {
          "base_uri": "https://localhost:8080/"
        },
        "id": "5E-tL3xVLLxq",
        "outputId": "cc103f92-6ccb-4173-d8b1-387f02eecab8"
      },
      "source": [
        "print(result1)"
      ],
      "execution_count": null,
      "outputs": [
        {
          "output_type": "stream",
          "text": [
            "     year i_code b_code     OC_B  ...      SC_B    SC_G      ST_B      ST_G\n",
            "0    2016   AARM    CSE  36354.0  ...  108971.0  108971   57637.0   64662.0\n",
            "0    2017   AARM    CSE  26907.0  ...   78913.0   78913   77625.0   80174.0\n",
            "0    2018   AARM    CSE  21940.0  ...   63812.0   63812   53585.0   53585.0\n",
            "0    2019   AARM    CSE  25594.0  ...   73190.0   85552   49086.0   90523.0\n",
            "1    2016   AARM    ECE  51705.0  ...  102841.0  102841  105992.0  105992.0\n",
            "..    ...    ...    ...      ...  ...       ...     ...       ...       ...\n",
            "772  2019   WITS    EEE  99633.0  ...   99633.0   99633   99633.0   99633.0\n",
            "855  2016   WITS    MEC  42130.0  ...   42130.0   84450   42130.0   84450.0\n",
            "837  2017   WITS    MEC  90028.0  ...   90028.0   90028   90028.0   90028.0\n",
            "829  2018   WITS    MEC  60225.0  ...   86865.0   86865   60225.0   60225.0\n",
            "773  2019   WITS    MEC  32039.0  ...   64742.0   64742   32039.0   64494.0\n",
            "\n",
            "[3298 rows x 19 columns]\n"
          ],
          "name": "stdout"
        }
      ]
    },
    {
      "cell_type": "code",
      "metadata": {
        "id": "3l-tL7_MMrKP"
      },
      "source": [
        "result1.to_csv('merge_sort.csv')"
      ],
      "execution_count": null,
      "outputs": []
    },
    {
      "cell_type": "markdown",
      "metadata": {
        "id": "cntrazgUjegw"
      },
      "source": [
        ""
      ]
    },
    {
      "cell_type": "markdown",
      "metadata": {
        "id": "ChbsTc2L65I4"
      },
      "source": [
        "##Deleting detained colleges\n",
        "##1)Result1 consist of all colleges since 2016\n",
        "##2)df4 consist of colleges of 2019"
      ]
    },
    {
      "cell_type": "code",
      "metadata": {
        "id": "1mQ0en0cjSpi"
      },
      "source": [
        "colleges19=set(df4['i_code'])"
      ],
      "execution_count": null,
      "outputs": []
    },
    {
      "cell_type": "code",
      "metadata": {
        "colab": {
          "base_uri": "https://localhost:8080/"
        },
        "id": "SQQBGbNb7j3l",
        "outputId": "6ed86eb7-d2ed-441e-95e8-8ba8f0878bc0"
      },
      "source": [
        "print(colleges19)\n",
        "print(len(colleges19))"
      ],
      "execution_count": null,
      "outputs": [
        {
          "output_type": "stream",
          "text": [
            "{'TKRC', 'GLOB', 'ASOK', 'BOMA', 'JMTS', 'JNTH', 'SAIK', 'CMRM', 'KPRT', 'IARE', 'ARJN', 'MRCW', 'NETW', 'SRIW', 'JAYA', 'KMIT', 'KITW', 'JPNE', 'MRCP', 'NGIT', 'VITS', 'PALV', 'NRCM', 'SVES', 'VAGP', 'JBIT', 'VGNT', 'NREC', 'WESL', 'MTEC', 'VBEC', 'MRTN', 'AURP', 'SPOP', 'SRYS', 'INDI', 'KITS', 'GNPT', 'JNPASF', 'MVSR', 'HITM', 'KUEWSF', 'CFSR', 'MOTK', 'RITW', 'SDEW', 'NNRG', 'AKIT', 'GNTW', 'DRKI', 'NGMA', 'KLRT', 'MINA', 'BSKR', 'CASR', 'CHTS', 'AVIH', 'KGRH', 'KDDW', 'VASV', 'CVRH', 'PETW', 'GRRR', 'TKEM', 'MLID', 'GCTC', 'TPCE', 'VITH', 'IITT', 'SWIT', 'SPEC', 'VGSE', 'KCEA', 'BRIL', 'MRCE', 'VGWL', 'PRIW', 'MECS', 'ASRA', 'VVKN', 'MGIT', 'DRKC', 'SDES', 'VCET', 'SISG', 'BSGP', 'KTKM', 'GURU', 'CVSR', 'CMRK', 'CMRN', 'JMTK', 'BIET', 'AARM', 'BRIG', 'MLRD', 'SDGI', 'MRET', 'INDU', 'AURG', 'NIET', 'CMRP', 'SIEI', 'WITS', 'GNIT', 'KUCE', 'CDTK', 'KNRR', 'TCEK', 'MLTM', 'SRHP', 'JNTHMT', 'JNTS', 'SPHN', 'ANRK', 'TUDI', 'JOGI', 'BITN', 'ANRH', 'JNKR', 'MGUNSF', 'JNTM', 'AITH', 'VJYA', 'AHTC', 'CMRG', 'VMEG', 'SKEC', 'CBIT', 'MREC', 'TRRC', 'BVRI', 'MREM', 'BOSE', 'HOLY', 'BREW', 'SNTI', 'CHTN', 'VAGE', 'BVRW', 'VMTW', 'AVNI', 'VBIT', 'MREW', 'SBIT', 'SVSE', 'ELET', 'CITS', 'METH', 'SNIS', 'STLW', 'KUWL', 'KUCESF', 'SMSK', 'VJIT', 'MHVR', 'MGHA', 'VJEC', 'VREC', 'MNRT', 'SAIS', 'GTEN', 'OUCT', 'ACEG', 'MLRS', 'TCTK', 'OUCE', 'RRST', 'CHET', 'ELEN', 'SVIT', 'MRIT', 'KMTS'}\n",
            "173\n"
          ],
          "name": "stdout"
        }
      ]
    },
    {
      "cell_type": "code",
      "metadata": {
        "id": "5DzYLVNr76kW"
      },
      "source": [
        "collegestill19=set(result1['i_code'])"
      ],
      "execution_count": null,
      "outputs": []
    },
    {
      "cell_type": "code",
      "metadata": {
        "colab": {
          "base_uri": "https://localhost:8080/"
        },
        "id": "PjOctiIVAntx",
        "outputId": "c8444b0f-6c93-4574-9a2d-04b51c376a90"
      },
      "source": [
        "print(collegestill19)\n",
        "print(len(collegestill19))"
      ],
      "execution_count": null,
      "outputs": [
        {
          "output_type": "stream",
          "text": [
            "{'TKRC', 'GLOB', 'ASOK', 'BOMA', 'JMTS', 'JNTH', 'SAIK', 'CMRM', 'KPRT', 'NLGN', 'IARE', 'PRRM', 'ARJN', 'MRCW', 'NETW', 'SRIW', 'TKRP', 'JAYA', 'AURH', 'JJIT', 'KMIT', 'KITW', 'JPNE', 'MRCP', 'NGIT', 'VITS', 'DVRC', 'PALV', 'PRIN', 'SAJW', 'NRCM', 'SVES', 'VAGP', 'JBIT', 'MISW', 'CFSB', 'VGNT', 'NREC', 'RBVW', 'WESL', 'MTEC', 'VBEC', 'MRTN', 'AURP', 'SPOP', 'SRYS', 'INDI', 'KITS', 'GNPT', 'JNPASF', 'MVSR', 'HITM', 'KUEWSF', 'TRPM', 'CFSR', 'MRPC', 'MOTK', 'RITW', 'SDEW', 'NNRG', 'AKIT', 'GNTW', 'DRKI', 'NGMA', 'SSRP', 'KLRT', 'DNVP', 'MINA', 'BSKR', 'CASR', 'CHTS', 'AVIH', 'KGRH', 'KDDW', 'DARE', 'GPRP', 'VASV', 'LAQS', 'CVRH', 'ADAM', 'KITE', 'PETW', 'SRTI', 'SSJV', 'ABIE', 'GRRR', 'TKEM', 'MLID', 'MLIP', 'GCTC', 'MDRK', 'TPCE', 'VITH', 'IITT', 'PECJ', 'SWIT', 'BRWN', 'SPEC', 'VGSE', 'KCEA', 'BNPW', 'BRIL', 'MRCE', 'AURB', 'JNTHM', 'VGWL', 'PRIW', 'MECS', 'SVHU', 'ASRA', 'VVKN', 'MGIT', 'DHRU', 'DRKC', 'AUDU', 'SDES', 'SIND', 'VCET', 'SISG', 'BSGP', 'TRML', 'KTKM', 'GURU', 'SMPS', 'CVSR', 'GRCP', 'TMLP', 'CMRK', 'CMRN', 'JMTK', 'BIET', 'VKTS', 'AURK', 'JNTHMB', 'AARM', 'SVIT', 'BRIG', 'SLCH', 'MLRD', 'SDGI', 'AUDC', 'MRET', 'NSHT', 'INDU', 'AURG', 'SRCW', 'NIET', 'PLMU', 'CMRP', 'SIEI', 'WITS', 'SRIT', 'GNIT', 'ANRP', 'JIET', 'KUCE', 'VBJN', 'VITA', 'CDTK', 'KNRR', 'TCEK', 'MLTM', 'SRHP', 'JNTHMT', 'JNTS', 'SPHN', 'ANRK', 'TUDI', 'JOGI', 'ANRH', 'BITN', 'JNKR', 'MGUNSF', 'JNTM', 'AITH', 'VJYA', 'VSNU', 'AHTC', 'CMRG', 'VMEG', 'SKEC', 'PIST', 'SCTP', 'CBIT', 'MREC', 'TRRC', 'KUCP', 'BVRI', 'MREM', 'BOSE', 'HOLY', 'BREW', 'SNTI', 'VCOP', 'SANA', 'CHTN', 'VAGE', 'BVRW', 'HMTK', 'VMTW', 'AVNI', 'VBIT', 'AVHP', 'MREW', 'SBIT', 'SVSE', 'NAGL', 'ELET', 'CITS', 'METH', 'CFSP', 'SNIS', 'STLW', 'KUWL', 'KUCESF', 'RMCK', 'SAGR', 'SMSK', 'NRIH', 'MHVR', 'MGHA', 'SSST', 'VJIT', 'VJEC', 'VREC', 'MNRT', 'SAIS', 'AURC', 'GTEN', 'OUCT', 'ACEG', 'MLRS', 'TCTK', 'OUCE', 'RRST', 'CHET', 'ELEN', 'KUEWS', 'MGUNS', 'RECN', 'CCRP', 'MRIT', 'KMTS'}\n",
            "243\n"
          ],
          "name": "stdout"
        }
      ]
    },
    {
      "cell_type": "code",
      "metadata": {
        "id": "x4HwLo1gAs2O"
      },
      "source": [
        "closed_colleges=collegestill19-colleges19"
      ],
      "execution_count": null,
      "outputs": []
    },
    {
      "cell_type": "code",
      "metadata": {
        "colab": {
          "base_uri": "https://localhost:8080/"
        },
        "id": "WGwq2A1KA-1C",
        "outputId": "91f9dfa8-6a06-48f1-904f-691408766770"
      },
      "source": [
        "print(closed_colleges)\n",
        "print(len(closed_colleges))"
      ],
      "execution_count": null,
      "outputs": [
        {
          "output_type": "stream",
          "text": [
            "{'TRML', 'KUCP', 'DNVP', 'SMPS', 'DARE', 'GRCP', 'TMLP', 'GPRP', 'NLGN', 'LAQS', 'VCOP', 'VKTS', 'SANA', 'AURK', 'PRRM', 'ADAM', 'JNTHMB', 'HMTK', 'KITE', 'TKRP', 'SRTI', 'JJIT', 'AURH', 'SSJV', 'ABIE', 'SLCH', 'AUDC', 'NSHT', 'SRCW', 'AVHP', 'MLIP', 'PLMU', 'MDRK', 'NAGL', 'SRIT', 'DVRC', 'PIST', 'CFSP', 'PECJ', 'ANRP', 'JIET', 'VBJN', 'BRWN', 'VITA', 'PRIN', 'SAJW', 'RMCK', 'SAGR', 'NRIH', 'SSST', 'BNPW', 'MISW', 'CFSB', 'RBVW', 'AURB', 'JNTHM', 'AURC', 'SVHU', 'TRPM', 'DHRU', 'VSNU', 'MRPC', 'KUEWS', 'MGUNS', 'RECN', 'CCRP', 'AUDU', 'SIND', 'SCTP', 'SSRP'}\n",
            "70\n"
          ],
          "name": "stdout"
        }
      ]
    },
    {
      "cell_type": "markdown",
      "metadata": {
        "id": "aaTtBfQTBKqK"
      },
      "source": [
        "##We have to remove closed_colleges from result1 DataFrame"
      ]
    },
    {
      "cell_type": "code",
      "metadata": {
        "colab": {
          "base_uri": "https://localhost:8080/"
        },
        "id": "0cNSRoY6BG5W",
        "outputId": "4f75dca2-18c7-4a92-e6ad-494579f8ce18"
      },
      "source": [
        "print(result1)"
      ],
      "execution_count": null,
      "outputs": [
        {
          "output_type": "stream",
          "text": [
            "     year i_code b_code     OC_B  ...      SC_B    SC_G      ST_B      ST_G\n",
            "0    2016   AARM    CSE  36354.0  ...  108971.0  108971   57637.0   64662.0\n",
            "0    2017   AARM    CSE  26907.0  ...   78913.0   78913   77625.0   80174.0\n",
            "0    2018   AARM    CSE  21940.0  ...   63812.0   63812   53585.0   53585.0\n",
            "0    2019   AARM    CSE  25594.0  ...   73190.0   85552   49086.0   90523.0\n",
            "1    2016   AARM    ECE  51705.0  ...  102841.0  102841  105992.0  105992.0\n",
            "..    ...    ...    ...      ...  ...       ...     ...       ...       ...\n",
            "772  2019   WITS    EEE  99633.0  ...   99633.0   99633   99633.0   99633.0\n",
            "855  2016   WITS    MEC  42130.0  ...   42130.0   84450   42130.0   84450.0\n",
            "837  2017   WITS    MEC  90028.0  ...   90028.0   90028   90028.0   90028.0\n",
            "829  2018   WITS    MEC  60225.0  ...   86865.0   86865   60225.0   60225.0\n",
            "773  2019   WITS    MEC  32039.0  ...   64742.0   64742   32039.0   64494.0\n",
            "\n",
            "[3298 rows x 19 columns]\n"
          ],
          "name": "stdout"
        }
      ]
    },
    {
      "cell_type": "code",
      "metadata": {
        "id": "hLDp2yLsBw_Q"
      },
      "source": [
        "temp=result1.set_index('i_code')\n",
        "for key in closed_colleges:\n",
        "  temp=temp.drop(key)"
      ],
      "execution_count": null,
      "outputs": []
    },
    {
      "cell_type": "code",
      "metadata": {
        "colab": {
          "base_uri": "https://localhost:8080/"
        },
        "id": "WCzjsPlNDdpG",
        "outputId": "c6203dc7-37a2-4e67-ba1f-e309de2e39e3"
      },
      "source": [
        "temp.reset_index(inplace = True)\n",
        "print(set(temp['i_code']))"
      ],
      "execution_count": null,
      "outputs": [
        {
          "output_type": "stream",
          "text": [
            "{'TKRC', 'GLOB', 'ASOK', 'BOMA', 'JMTS', 'JNTH', 'SAIK', 'CMRM', 'KPRT', 'IARE', 'ARJN', 'MRCW', 'NETW', 'SRIW', 'JAYA', 'KMIT', 'KITW', 'JPNE', 'MRCP', 'NGIT', 'VITS', 'PALV', 'NRCM', 'SVES', 'VAGP', 'JBIT', 'VGNT', 'NREC', 'WESL', 'MTEC', 'VBEC', 'MRTN', 'AURP', 'SPOP', 'SRYS', 'INDI', 'KITS', 'GNPT', 'JNPASF', 'MVSR', 'HITM', 'KUEWSF', 'CFSR', 'MOTK', 'RITW', 'SDEW', 'NNRG', 'AKIT', 'GNTW', 'DRKI', 'NGMA', 'KLRT', 'MINA', 'BSKR', 'CASR', 'CHTS', 'AVIH', 'KGRH', 'KDDW', 'VASV', 'CVRH', 'PETW', 'GRRR', 'TKEM', 'MLID', 'GCTC', 'TPCE', 'VITH', 'IITT', 'SWIT', 'SPEC', 'VGSE', 'KCEA', 'BRIL', 'MRCE', 'VGWL', 'PRIW', 'MECS', 'ASRA', 'VVKN', 'MGIT', 'DRKC', 'SDES', 'VCET', 'SISG', 'BSGP', 'KTKM', 'GURU', 'CVSR', 'CMRK', 'CMRN', 'JMTK', 'BIET', 'AARM', 'BRIG', 'MLRD', 'SDGI', 'MRET', 'INDU', 'AURG', 'NIET', 'CMRP', 'SIEI', 'WITS', 'GNIT', 'KUCE', 'CDTK', 'KNRR', 'TCEK', 'MLTM', 'SRHP', 'JNTHMT', 'JNTS', 'SPHN', 'ANRK', 'TUDI', 'JOGI', 'BITN', 'ANRH', 'JNKR', 'MGUNSF', 'JNTM', 'AITH', 'VJYA', 'AHTC', 'CMRG', 'VMEG', 'SKEC', 'CBIT', 'MREC', 'TRRC', 'BVRI', 'MREM', 'BOSE', 'HOLY', 'BREW', 'SNTI', 'CHTN', 'VAGE', 'BVRW', 'VMTW', 'AVNI', 'VBIT', 'MREW', 'SBIT', 'SVSE', 'ELET', 'CITS', 'METH', 'SNIS', 'STLW', 'KUWL', 'KUCESF', 'SMSK', 'VJIT', 'MHVR', 'MGHA', 'VJEC', 'VREC', 'MNRT', 'SAIS', 'GTEN', 'OUCT', 'ACEG', 'MLRS', 'TCTK', 'OUCE', 'RRST', 'CHET', 'ELEN', 'SVIT', 'MRIT', 'KMTS'}\n"
          ],
          "name": "stdout"
        }
      ]
    },
    {
      "cell_type": "code",
      "metadata": {
        "colab": {
          "base_uri": "https://localhost:8080/"
        },
        "id": "nzkTFBT6DsY1",
        "outputId": "186748f2-d3d5-452b-ee31-fd13b4b7b200"
      },
      "source": [
        "print(len(set(temp['i_code'])))"
      ],
      "execution_count": null,
      "outputs": [
        {
          "output_type": "stream",
          "text": [
            "173\n"
          ],
          "name": "stdout"
        }
      ]
    },
    {
      "cell_type": "code",
      "metadata": {
        "id": "z7uuYKApFIvQ"
      },
      "source": [
        "temp.to_csv('finaldata.csv')"
      ],
      "execution_count": null,
      "outputs": []
    },
    {
      "cell_type": "code",
      "metadata": {
        "id": "BHh_jvn9JrSW"
      },
      "source": [
        ""
      ],
      "execution_count": null,
      "outputs": []
    }
  ]
}