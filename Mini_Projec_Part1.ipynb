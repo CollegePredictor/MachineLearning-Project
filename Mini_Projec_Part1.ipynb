{
  "nbformat": 4,
  "nbformat_minor": 0,
  "metadata": {
    "colab": {
      "name": "Mini_Projec_Part1.ipynb",
      "provenance": [],
      "collapsed_sections": [],
      "toc_visible": true,
      "authorship_tag": "ABX9TyOfakT18765u8zrgWATeAEI",
      "include_colab_link": true
    },
    "kernelspec": {
      "name": "python3",
      "display_name": "Python 3"
    },
    "language_info": {
      "name": "python"
    }
  },
  "cells": [
    {
      "cell_type": "markdown",
      "metadata": {
        "id": "view-in-github",
        "colab_type": "text"
      },
      "source": [
        "<a href=\"https://colab.research.google.com/github/CollegePredictor/MachineLearning-Project/blob/main/Mini_Projec_Part1.ipynb\" target=\"_parent\"><img src=\"https://colab.research.google.com/assets/colab-badge.svg\" alt=\"Open In Colab\"/></a>"
      ]
    },
    {
      "cell_type": "markdown",
      "metadata": {
        "id": "CpQObhO85NLD"
      },
      "source": [
        ""
      ]
    },
    {
      "cell_type": "markdown",
      "metadata": {
        "id": "GeVLXLJEKnHb"
      },
      "source": [
        "**Import Libraries**"
      ]
    },
    {
      "cell_type": "code",
      "metadata": {
        "id": "yZLPkEuQ4K9i"
      },
      "source": [
        "import numpy as np\n",
        "import matplotlib.pyplot as plt\n",
        "import pandas as pd"
      ],
      "execution_count": 1,
      "outputs": []
    },
    {
      "cell_type": "markdown",
      "metadata": {
        "id": "lQ0F6SiQK2Nw"
      },
      "source": [
        "**Import  data set**"
      ]
    },
    {
      "cell_type": "code",
      "metadata": {
        "id": "MsHWH_4z4RjH"
      },
      "source": [
        "dataset=pd.read_csv('Book 9.csv')\n",
        "x=dataset.iloc[:,:-1].values\n",
        "y=dataset.iloc[:,-1].values"
      ],
      "execution_count": 2,
      "outputs": []
    },
    {
      "cell_type": "markdown",
      "metadata": {
        "id": "ZtRqf5Tw5mT2"
      },
      "source": [
        ""
      ]
    },
    {
      "cell_type": "markdown",
      "metadata": {
        "id": "GxlW4YO2LA3_"
      },
      "source": [
        "**print X and Y**"
      ]
    },
    {
      "cell_type": "code",
      "metadata": {
        "colab": {
          "base_uri": "https://localhost:8080/"
        },
        "id": "y4j4d0kD5k_W",
        "outputId": "a28fe8e6-4952-46ef-95a2-a08370f6be2f"
      },
      "source": [
        "DF = pd.DataFrame(x)\n",
        "DF.to_csv(\"x.csv\")\n",
        "print(x)"
      ],
      "execution_count": 3,
      "outputs": [
        {
          "output_type": "stream",
          "text": [
            "[[2017 'cse' 'm' 'oc']\n",
            " [2017 'cse' 'm' 'bc_a']\n",
            " [2017 'cse' 'm' 'bc_b']\n",
            " ...\n",
            " [2019 'civil' 'f' 'bc_e']\n",
            " [2019 'civil' 'f' 'sc']\n",
            " [2019 'civil' 'f' 'st']]\n"
          ],
          "name": "stdout"
        }
      ]
    },
    {
      "cell_type": "code",
      "metadata": {
        "colab": {
          "base_uri": "https://localhost:8080/"
        },
        "id": "Lpx8DSUO7YvX",
        "outputId": "77c15033-7672-42a7-8ed0-88ab011082a2"
      },
      "source": [
        "print(y)"
      ],
      "execution_count": 4,
      "outputs": [
        {
          "output_type": "stream",
          "text": [
            "[ 3901 17413  7100  9562  7021 14555 32699 25948  4595 22584  8705  9562\n",
            "  9089 30423 32699 39130  5097 20886  9214  6173  8497 24464 33480 29636\n",
            "  5475 22875  9568 21137 10613 25573 37541 40198  7373 27526 13335  7373\n",
            " 13534 30667 49971 36302  7400 27526 13335 22968 15398 44154 49971 51271\n",
            "  7115 28223 13951 36378 12198 27501 34851 26572 12934 60775 27126 36378\n",
            " 22620 29600 63436 43587  6969 24736 13068 19586 11235 30394 35277 23506\n",
            "  7741 24736 14076 19586 14740 43576 42195 29362  8456 30064 15115  8456\n",
            " 14055 31752 35150 24229 10461 39510 18351 54213 16711 46531 35937 29563\n",
            "  3640 17322  6572 13448  7298 18737 28946 25300  4460 18099  8959 21979\n",
            "  8815 19994 28946 41075  5292 21249  9340 30973  9353 22127 35681 31180\n",
            "  6280 21481 10259 30973 11728 22127 38324 42611  7073 30037 13557 29960\n",
            " 12185 23750 47068 44999  7073 33357 13557 29960 12850 36375 51927 48598\n",
            "  8037 28803 14394  8037 14511 32257 41473 29818 13294 51588 22477 46628\n",
            " 32938 32257 62362 48081  6804 29920 12808  6804 13917 14736 32839 23423\n",
            "  7877 29920 15636 41734 14199 27202 42877 35312  9938 34279 17512 48657\n",
            " 17634 26602 34483 22092 10048 39004 17788 48657 17927 47530 37156 35564\n",
            "  4560 15507  6752 20794  7429 13019 30317 23415  4692 17165  8327 22073\n",
            "  8383 25176 30660 33178  2894 20587 11193 21461 11375 30409 43272 30491\n",
            "  6981 22674 12307 24031 11375 47808 45481 42053  7652 23941 13677 31995\n",
            " 12670 29740 51892 41746  7652 28951 13677 31995 12670 37500 53342 50567\n",
            " 11522 32224 21502 38891 19594 40982 49393 34807 21707 38219 32258 81891\n",
            " 33597 64700 74614 61821  9003 27082 17604 21644 18459 42149 48335 29949\n",
            " 10720 33088 18418 21644 21579 56119 48335 39217 14243 35248 16930 14243\n",
            " 22358 42609 43927 24809 14737 54778 22225 14737 29638 42609 57695 24809]\n"
          ],
          "name": "stdout"
        }
      ]
    },
    {
      "cell_type": "markdown",
      "metadata": {
        "id": "AWHDZXRlLIni"
      },
      "source": [
        "**Encoding Independent variables one by one**"
      ]
    },
    {
      "cell_type": "code",
      "metadata": {
        "id": "aZcbYiJ47oJ9"
      },
      "source": [
        "from sklearn.compose import ColumnTransformer\n",
        "from sklearn.preprocessing import OneHotEncoder\n",
        "ct = ColumnTransformer(transformers=[('encoder', OneHotEncoder(), [3])], remainder='passthrough')\n",
        "x = np.array(ct.fit_transform(x))\n",
        "DF = pd.DataFrame(x)\n",
        "DF.to_csv(\"c.csv\")\n",
        "#caste encoding"
      ],
      "execution_count": 5,
      "outputs": []
    },
    {
      "cell_type": "code",
      "metadata": {
        "colab": {
          "base_uri": "https://localhost:8080/"
        },
        "id": "H5glCUMtAGPi",
        "outputId": "019a1f3b-d462-4a3a-d363-a00d46ccda29"
      },
      "source": [
        "print(x)"
      ],
      "execution_count": null,
      "outputs": [
        {
          "output_type": "stream",
          "text": [
            "[[0.0 0.0 0.0 ... 2017 'cse' 'm']\n",
            " [1.0 0.0 0.0 ... 2017 'cse' 'm']\n",
            " [0.0 1.0 0.0 ... 2017 'cse' 'm']\n",
            " ...\n",
            " [0.0 0.0 0.0 ... 2019 'civil' 'f']\n",
            " [0.0 0.0 0.0 ... 2019 'civil' 'f']\n",
            " [0.0 0.0 0.0 ... 2019 'civil' 'f']]\n"
          ],
          "name": "stdout"
        }
      ]
    },
    {
      "cell_type": "code",
      "metadata": {
        "id": "HR_WDKT4_lFm"
      },
      "source": [
        "#gender encoding\n",
        "from sklearn.compose import ColumnTransformer\n",
        "from sklearn.preprocessing import OneHotEncoder\n",
        "ct = ColumnTransformer(transformers=[('encoder', OneHotEncoder(), [10])], remainder='passthrough')\n",
        "x = np.array(ct.fit_transform(x))\n",
        "DF = pd.DataFrame(x)\n",
        "DF.to_csv(\"c_g.csv\")"
      ],
      "execution_count": 6,
      "outputs": []
    },
    {
      "cell_type": "code",
      "metadata": {
        "colab": {
          "base_uri": "https://localhost:8080/"
        },
        "id": "y_zq3EZ89Jpn",
        "outputId": "be3c212d-1b11-4904-d82b-0482a9cf2127"
      },
      "source": [
        "print(x)"
      ],
      "execution_count": null,
      "outputs": [
        {
          "output_type": "stream",
          "text": [
            "[[0.0 1.0 0.0 ... 0.0 2017 'cse']\n",
            " [0.0 1.0 1.0 ... 0.0 2017 'cse']\n",
            " [0.0 1.0 0.0 ... 0.0 2017 'cse']\n",
            " ...\n",
            " [1.0 0.0 0.0 ... 0.0 2019 'civil']\n",
            " [1.0 0.0 0.0 ... 0.0 2019 'civil']\n",
            " [1.0 0.0 0.0 ... 1.0 2019 'civil']]\n"
          ],
          "name": "stdout"
        }
      ]
    },
    {
      "cell_type": "code",
      "metadata": {
        "id": "tXl4KQOhJDkP"
      },
      "source": [
        "#branch encoding\n",
        "from sklearn.compose import ColumnTransformer\n",
        "from sklearn.preprocessing import OneHotEncoder\n",
        "ct = ColumnTransformer(transformers=[('encoder', OneHotEncoder(), [11])], remainder='passthrough')\n",
        "x = np.array(ct.fit_transform(x))\n",
        "DF = pd.DataFrame(x)\n",
        "DF.to_csv(\"c_g_b.csv\")"
      ],
      "execution_count": 7,
      "outputs": []
    },
    {
      "cell_type": "markdown",
      "metadata": {
        "id": "vj8pBSwMLUBH"
      },
      "source": [
        "**Final data set contains columns as branch(6) gender(2) caste(8)**"
      ]
    },
    {
      "cell_type": "markdown",
      "metadata": {
        "id": "bROEKKwmL6WR"
      },
      "source": [
        "## Splitting the dataset into the Training set and Test set"
      ]
    },
    {
      "cell_type": "code",
      "metadata": {
        "id": "wErEp9c0KGsR"
      },
      "source": [
        "from sklearn.model_selection import train_test_split\n",
        "x_train, x_test, y_train, y_test = train_test_split(x, y, test_size = 0.2, random_state = 0)"
      ],
      "execution_count": 20,
      "outputs": []
    },
    {
      "cell_type": "markdown",
      "metadata": {
        "id": "qZgZzxq6ZbHN"
      },
      "source": [
        "Manually Data is being Splitted"
      ]
    },
    {
      "cell_type": "code",
      "metadata": {
        "id": "OJTA7RRgV4h3"
      },
      "source": [
        "\n",
        "#x_train=x[:240,:]\n",
        "#x_test=x[240:,:]\n",
        "#y_train=y[:240]\n",
        "#y_test=y[240:]\n"
      ],
      "execution_count": 9,
      "outputs": []
    },
    {
      "cell_type": "code",
      "metadata": {
        "colab": {
          "base_uri": "https://localhost:8080/"
        },
        "id": "02VM6eLpMN26",
        "outputId": "564f6d83-5aaa-4b03-eeca-8396435f96dc"
      },
      "source": [
        "print(x_train)\n",
        "DF = pd.DataFrame(x_train)\n",
        "DF.to_csv(\"c_g_b_xtrain.csv\")"
      ],
      "execution_count": null,
      "outputs": [
        {
          "output_type": "stream",
          "text": [
            "[[0.0 1.0 0.0 ... 0.0 0.0 2017]\n",
            " [0.0 1.0 0.0 ... 0.0 0.0 2017]\n",
            " [0.0 1.0 0.0 ... 0.0 0.0 2017]\n",
            " ...\n",
            " [0.0 0.0 0.0 ... 0.0 0.0 2019]\n",
            " [0.0 0.0 0.0 ... 1.0 0.0 2019]\n",
            " [0.0 0.0 0.0 ... 0.0 1.0 2019]]\n"
          ],
          "name": "stdout"
        }
      ]
    },
    {
      "cell_type": "code",
      "metadata": {
        "id": "qcVhy2FDMldU"
      },
      "source": [
        "DF = pd.DataFrame(y_train)\n",
        "DF.to_csv(\"c_g_b_ytrain.csv\")"
      ],
      "execution_count": null,
      "outputs": []
    },
    {
      "cell_type": "code",
      "metadata": {
        "id": "6BVRZqX0MsF8"
      },
      "source": [
        "DF = pd.DataFrame(x_test)\n",
        "DF.to_csv(\"c_g_b_xtest.csv\")"
      ],
      "execution_count": null,
      "outputs": []
    },
    {
      "cell_type": "code",
      "metadata": {
        "id": "-58YwaKjMz9l"
      },
      "source": [
        "DF = pd.DataFrame(y_test)\n",
        "DF.to_csv(\"c_g_b_ytest.csv\")"
      ],
      "execution_count": null,
      "outputs": []
    },
    {
      "cell_type": "markdown",
      "metadata": {
        "id": "o20wHmw8PKE6"
      },
      "source": [
        "##feature Scaling"
      ]
    },
    {
      "cell_type": "code",
      "metadata": {
        "id": "QmSbvyjYPJGA"
      },
      "source": [
        "from sklearn.preprocessing import StandardScaler\n",
        "sc = StandardScaler()\n",
        "x_train[:, 16:] = sc.fit_transform(x_train[:, 16:])\n",
        "x_test[:, 16:] = sc.transform(x_test[:, 16:])"
      ],
      "execution_count": 10,
      "outputs": []
    },
    {
      "cell_type": "code",
      "metadata": {
        "id": "tWfWyxtiPjw5"
      },
      "source": [
        "DF = pd.DataFrame(x_train)\n",
        "DF.to_csv(\"c_g_b_xtrain_scalling.csv\")"
      ],
      "execution_count": null,
      "outputs": []
    },
    {
      "cell_type": "markdown",
      "metadata": {
        "id": "K8b-GcZ8Sibo"
      },
      "source": [
        "##Training the Multiple Linear Regression model on the Training set"
      ]
    },
    {
      "cell_type": "code",
      "metadata": {
        "colab": {
          "base_uri": "https://localhost:8080/"
        },
        "id": "mWfX0tu9SoKi",
        "outputId": "8ac10e8e-2041-4e3a-a297-49bdab263f77"
      },
      "source": [
        "from sklearn.linear_model import LinearRegression\n",
        "regressor = LinearRegression()\n",
        "regressor.fit(x_train, y_train)"
      ],
      "execution_count": 11,
      "outputs": [
        {
          "output_type": "execute_result",
          "data": {
            "text/plain": [
              "LinearRegression(copy_X=True, fit_intercept=True, n_jobs=None, normalize=False)"
            ]
          },
          "metadata": {
            "tags": []
          },
          "execution_count": 11
        }
      ]
    },
    {
      "cell_type": "markdown",
      "metadata": {
        "id": "JfqZ98hNw_ED"
      },
      "source": [
        "##Accuracy Of model"
      ]
    },
    {
      "cell_type": "code",
      "metadata": {
        "colab": {
          "base_uri": "https://localhost:8080/"
        },
        "id": "14_zPR52S2No",
        "outputId": "a1ca2a9e-0c67-4a70-ca4b-5f8849a4331a"
      },
      "source": [
        "y_pred = regressor.predict(x_test)\n",
        "#print(y_pred)\n",
        "l1=[]\n",
        "for i in list(y_pred):\n",
        "  l1.append(i/1000)\n",
        "l2=[]\n",
        "for i in list(y_test):\n",
        "  l2.append(i/1000)\n",
        "#print(y_test)\n",
        "from sklearn import metrics\n",
        "print(metrics.r2_score(l2,l1))"
      ],
      "execution_count": 22,
      "outputs": [
        {
          "output_type": "stream",
          "text": [
            "0.7569256304918954\n"
          ],
          "name": "stdout"
        }
      ]
    },
    {
      "cell_type": "markdown",
      "metadata": {
        "id": "NF3cP7iRaHvU"
      },
      "source": [
        "##Visualizing results of Linear regression"
      ]
    },
    {
      "cell_type": "code",
      "metadata": {
        "colab": {
          "base_uri": "https://localhost:8080/",
          "height": 297
        },
        "id": "5UbwW9l8Tr47",
        "outputId": "83c073d4-d542-4df8-9699-5e6b02794e75"
      },
      "source": [
        "X = np.arange(len(y_pred))  # the label locations\n",
        "width = 0.35\n",
        "fig, ax = plt.subplots()\n",
        "rects1 = ax.bar(X - width/2, y_test, width, label='Test')\n",
        "rects2 = ax.bar(X + width/2, y_pred, width, label='Predicted')\n",
        "fig.tight_layout()\n",
        "\n",
        "plt.show()"
      ],
      "execution_count": null,
      "outputs": [
        {
          "output_type": "display_data",
          "data": {
            "image/png": "[encoded data removed]",
            "text/plain": [
              "<Figure size 432x288 with 1 Axes>"
            ]
          },
          "metadata": {
            "tags": [],
            "needs_background": "light"
          }
        }
      ]
    },
    {
      "cell_type": "markdown",
      "metadata": {
        "id": "8NK7zWOiGArB"
      },
      "source": [
        "##Eliminating Duplicate variables for every set\n",
        "##if a set have n attributes we can remove one attribute\n",
        "##Resultant set have n-1 variables\n",
        "##Ex male-1 female -0 instead of creating two columns for male and female , male column is enough since f=m-1"
      ]
    },
    {
      "cell_type": "markdown",
      "metadata": {
        "id": "Wx6dxHZ0LivX"
      },
      "source": [
        "##*We dont need to apply featue scalling for mutiple Linear Regression\n",
        "due to equation\n",
        "y=b0+b1*x1+b2*X2+.......*"
      ]
    },
    {
      "cell_type": "markdown",
      "metadata": {
        "id": "3yH6lbgKUXSJ"
      },
      "source": [
        "##* polynomial Regression y=b0+b1*x1^1+b2*x1^2....."
      ]
    },
    {
      "cell_type": "code",
      "metadata": {
        "id": "4tzIVbT_H_Qs"
      },
      "source": [
        ""
      ],
      "execution_count": null,
      "outputs": []
    }
  ]
}